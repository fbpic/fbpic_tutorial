{
 "cells": [
  {
   "cell_type": "markdown",
   "id": "f5151411-6a73-4abd-a744-c600e97f8b3a",
   "metadata": {},
   "source": [
    "### Installation"
   ]
  },
  {
   "cell_type": "code",
   "execution_count": null,
   "id": "5ff383f7-63ce-47d5-a6cd-748553303c17",
   "metadata": {},
   "outputs": [],
   "source": [
    "# !pip install openpmd-viewer"
   ]
  },
  {
   "cell_type": "markdown",
   "id": "59048554-3b79-45a6-b2ae-d823d873402c",
   "metadata": {
    "tags": []
   },
   "source": [
    "### Package imports"
   ]
  },
  {
   "cell_type": "markdown",
   "id": "befdce91-6b25-400d-b55e-34267991dce7",
   "metadata": {},
   "source": [
    "- Explain software packages that are used"
   ]
  },
  {
   "cell_type": "code",
   "execution_count": null,
   "id": "3565708d-05f9-4949-99a1-16d75abe763a",
   "metadata": {},
   "outputs": [],
   "source": [
    "from scipy.constants import c, e                          # Physical constants\n",
    "from openpmd_viewer.addons import LpaDiagnostics as opmd  # OpenPMD Viewer (add-on for plasma acceleration)\n",
    "import matplotlib.pyplot as plt                           # Plotting"
   ]
  },
  {
   "cell_type": "markdown",
   "id": "e681e9dc-1a8e-4bd2-a2ac-bf30b87f6409",
   "metadata": {
    "tags": []
   },
   "source": [
    "### Analysis"
   ]
  },
  {
   "cell_type": "code",
   "execution_count": null,
   "id": "4495b440-9fab-4c1f-918e-a0f3f75569ce",
   "metadata": {},
   "outputs": [],
   "source": [
    "# Open the diagnostic files and create an OpenPMD TimeSeries object\n",
    "d = opmd('./lab_diags/hdf5/')"
   ]
  },
  {
   "cell_type": "code",
   "execution_count": null,
   "id": "51425256-8972-4a6b-a935-ecc0fd633038",
   "metadata": {},
   "outputs": [],
   "source": [
    "# Get the laser waist along the propagation\n",
    "laser_waist = d.iterate( d.get_laser_waist, pol='x')\n",
    "z_prop = d.t*c"
   ]
  },
  {
   "cell_type": "code",
   "execution_count": null,
   "id": "9967102d-9c91-4967-896c-0f2565fceaf7",
   "metadata": {},
   "outputs": [],
   "source": [
    "# Plot the laser waist\n",
    "plt.figure(figsize=(4,2), dpi=150)\n",
    "plt.plot(z_prop*1.e6, laser_waist*1.e6)\n",
    "plt.xlabel('$z_{prop}$ (µm)')\n",
    "plt.ylabel('$w_{0}$ (µm)')"
   ]
  },
  {
   "cell_type": "code",
   "execution_count": null,
   "id": "2b4a3e3b-1624-483b-a501-8bd68ff09f25",
   "metadata": {},
   "outputs": [],
   "source": [
    "# Get the charge along the propagation\n",
    "charge = d.iterate( d.get_charge )"
   ]
  },
  {
   "cell_type": "code",
   "execution_count": null,
   "id": "b9787b50-3a37-4832-b0cb-36826eeea670",
   "metadata": {},
   "outputs": [],
   "source": [
    "# Plot the charge\n",
    "plt.figure(figsize=(4,2), dpi=150)\n",
    "plt.plot(z_prop*1.e6, -charge*1.e12, color='steelblue')\n",
    "plt.xlabel('$z_{prop}$ (µm)')\n",
    "plt.ylabel('$Q$ (pC)')"
   ]
  },
  {
   "cell_type": "code",
   "execution_count": null,
   "id": "50c274ab-0eb3-41fd-83d0-33aee5094db4",
   "metadata": {},
   "outputs": [],
   "source": [
    "# Get the energy (mean) and energy spread (std) of the bunch along the progation\n",
    "energy, energy_spread = d.iterate(d.get_energy_spread, center='mean', width='std')"
   ]
  },
  {
   "cell_type": "code",
   "execution_count": null,
   "id": "7f38f04f-d131-444f-afaf-f4c05c615982",
   "metadata": {},
   "outputs": [],
   "source": [
    "# Plot the energy\n",
    "plt.figure(figsize=(4,2), dpi=150)\n",
    "plt.plot(z_prop*1.e6, energy, color='steelblue')\n",
    "plt.xlabel('$z_{prop}$ (µm)')\n",
    "plt.ylabel('$E$ (MeV)')\n",
    "# Plot the energy spread\n",
    "plt.twinx()\n",
    "plt.plot(z_prop*1.e6, energy_spread, color='lightgreen')\n",
    "plt.xlabel('$z_{prop}$ (µm)')\n",
    "plt.ylabel('$\\delta_E$ (MeV)')"
   ]
  },
  {
   "cell_type": "code",
   "execution_count": null,
   "id": "6dbec978-7cad-4292-b535-9854358d740f",
   "metadata": {},
   "outputs": [],
   "source": [
    "# Get bunch properties at the plasma exit\n",
    "select = {'uz': [75,175], 'x':[-3.e-6, 3.e-6], 'y':[-3.e-6, 3.e-6]}\n",
    "# Get longitduinal phase space\n",
    "z, uz = d.get_particle(['z', 'uz'], iteration=10, select=select)\n",
    "# Get the charge\n",
    "bunch_charge = -d.get_charge(iteration=10, select=select)*1.e12\n",
    "# Get the median energy and median absolute deviation (mad) energy spread \n",
    "median_energy, mad_energy_spread = d.get_energy_spread(iteration=10, center='median', width='mad', select=select)\n",
    "# Get the emittance\n",
    "emit_x, emit_y = d.get_emittance(iteration=10, select=select)"
   ]
  },
  {
   "cell_type": "code",
   "execution_count": null,
   "id": "d2840ed3-bb01-445b-afd8-6cd929cafc71",
   "metadata": {},
   "outputs": [],
   "source": [
    "# Plot the bunch phase space and characteristic properties at the end of the propagation\n",
    "plt.figure(figsize=(4,2), dpi=150)\n",
    "plt.hist2d(z*1.e6, uz, range=((704,710),(0,175)), bins=100, cmap='YlGnBu_r');\n",
    "plt.ylim(0,175)\n",
    "plt.xlabel('$z$ (µm)')\n",
    "plt.ylabel('$u_z$')\n",
    "plt.annotate('$Q = %02.02f$ (pC)'%(bunch_charge), xy = (707,80), color='w')\n",
    "plt.annotate('$E = %02.02f$ (MeV)'%(median_energy), xy = (707,60), color='w')\n",
    "plt.annotate('$\\Delta E_{MAD} = %02.02f$'%(mad_energy_spread/median_energy*100) + ' %', xy = (707,40), color='w')\n",
    "plt.annotate('$\\epsilon_{n,x} = %02.02f$'%(emit_x*1.e6), xy = (707,20), color='w')"
   ]
  },
  {
   "cell_type": "code",
   "execution_count": null,
   "id": "47b8d5d8-1e3a-4446-804a-4991d52d7550",
   "metadata": {},
   "outputs": [],
   "source": []
  }
 ],
 "metadata": {
  "kernelspec": {
   "display_name": "Python (main)",
   "language": "python",
   "name": "main"
  },
  "language_info": {
   "codemirror_mode": {
    "name": "ipython",
    "version": 3
   },
   "file_extension": ".py",
   "mimetype": "text/x-python",
   "name": "python",
   "nbconvert_exporter": "python",
   "pygments_lexer": "ipython3",
   "version": "3.9.7"
  }
 },
 "nbformat": 4,
 "nbformat_minor": 5
}
