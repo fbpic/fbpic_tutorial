{
 "cells": [
  {
   "cell_type": "markdown",
   "id": "62190c3d-a6ab-4052-bea2-763b20fe2149",
   "metadata": {},
   "source": [
    "#### Simulation setup\n",
    "- **Step 1:** Propagation of a Gaussian laser pulse in vacuum\n",
    "    - Observe a laser pulse that propgates through a focus in vacuum\n",
    "- **Step 2:** Excitation of a plasma wave\n",
    "    - Observe a linear plasma wave with a0 = 1\n",
    "    - Task: Change a0 to 2 to observe a non-linear plasma wave\n",
    "- **Step 3:** Localized ionization injection of an electron beam\n",
    "    - Add local dopant (nitrogen) gas and inject an electron bunch via ionization injection\n",
    "    - Task: Tune the longitudinal focus position to optimize beam loading & minimize the energy spread "
   ]
  },
  {
   "cell_type": "markdown",
   "id": "4f327a5f-ced9-441e-9985-a9537901df1f",
   "metadata": {},
   "source": [
    "### Installation"
   ]
  },
  {
   "cell_type": "code",
   "execution_count": null,
   "id": "3919cc1e-95fc-4fa9-a0ea-c9acb0e4e7fa",
   "metadata": {},
   "outputs": [],
   "source": [
    "# !pip install fbpic"
   ]
  },
  {
   "cell_type": "markdown",
   "id": "59048554-3b79-45a6-b2ae-d823d873402c",
   "metadata": {
    "tags": []
   },
   "source": [
    "### Package imports"
   ]
  },
  {
   "cell_type": "markdown",
   "id": "befdce91-6b25-400d-b55e-34267991dce7",
   "metadata": {},
   "source": [
    "- Explain additional software packages that are used\n",
    "- Explain FBPIC imports"
   ]
  },
  {
   "cell_type": "code",
   "execution_count": null,
   "id": "3565708d-05f9-4949-99a1-16d75abe763a",
   "metadata": {},
   "outputs": [],
   "source": [
    "import numpy as np                              # Array creation & manipulation\n",
    "from scipy.constants import c, e, m_e, m_p, pi  # Physical constants\n",
    "import numexpr as ne                            # Evaluate numerical expressions"
   ]
  },
  {
   "cell_type": "code",
   "execution_count": null,
   "id": "47e8bedd-2416-4f24-a3c1-3fe35012667d",
   "metadata": {},
   "outputs": [],
   "source": [
    "# Import FBPIC classes & functions\n",
    "from fbpic.main import Simulation\n",
    "from fbpic.lpa_utils.laser import add_laser_pulse\n",
    "from fbpic.lpa_utils.laser.laser_profiles import GaussianLaser\n",
    "from fbpic.lpa_utils.boosted_frame import BoostConverter\n",
    "from fbpic.openpmd_diag import BackTransformedFieldDiagnostic, BackTransformedParticleDiagnostic"
   ]
  },
  {
   "cell_type": "markdown",
   "id": "e681e9dc-1a8e-4bd2-a2ac-bf30b87f6409",
   "metadata": {
    "tags": []
   },
   "source": [
    "### Lorentz-Boosted Frame"
   ]
  },
  {
   "cell_type": "markdown",
   "id": "1f760f69-3538-4aef-9e53-1287069b3f62",
   "metadata": {},
   "source": [
    "- Discuss Boosted frame concept"
   ]
  },
  {
   "cell_type": "code",
   "execution_count": null,
   "id": "4495b440-9fab-4c1f-918e-a0f3f75569ce",
   "metadata": {},
   "outputs": [],
   "source": [
    "# Define the Lorentz factor of the Boosted frame\n",
    "gamma_boost = 4.\n",
    "# Create a boosted frame converter\n",
    "boost = BoostConverter(gamma_boost)"
   ]
  },
  {
   "cell_type": "markdown",
   "id": "66dfce6e-5401-4c33-9821-5d4b22d7c503",
   "metadata": {
    "tags": []
   },
   "source": [
    "### Simulation Box"
   ]
  },
  {
   "cell_type": "markdown",
   "id": "3889dffc-f7b8-434d-83d4-01c8b64710d2",
   "metadata": {},
   "source": [
    "- Explain box boundaries & mode decomposition\n",
    "- Show schematic of the grid\n",
    "- Explain that we use 3 number of modes"
   ]
  },
  {
   "cell_type": "code",
   "execution_count": null,
   "id": "0637b6c8-3a66-4059-8fce-85eb77417c34",
   "metadata": {},
   "outputs": [],
   "source": [
    "# Simulation box\n",
    "Nz = 1500        # Number of gridpoints along z\n",
    "zmax = 0.e-6     # Right boundary of the box along z (meters)\n",
    "zmin = -30.e-6   # Left boundary of the box along z (meters)\n",
    "Nr = 150         # Number of gridpoints along r\n",
    "rmax = 30.e-6    # Length of the box along r (meters)\n",
    "Nm = 3           # Number of azimuthal modes used\n",
    "\n",
    "# Simulation timestep\n",
    "dt = min( rmax/(2*boost.gamma0*Nr)/c, (zmax-zmin)/Nz/c )  # Timestep (seconds)"
   ]
  },
  {
   "cell_type": "markdown",
   "id": "a20a4026-d4f1-4862-b0e5-6f2e07d0daae",
   "metadata": {
    "tags": []
   },
   "source": [
    "### Simulation"
   ]
  },
  {
   "cell_type": "markdown",
   "id": "b71c1aef-3290-4cbc-8c41-691610692345",
   "metadata": {},
   "source": [
    "- Explain simulation object and numerical parameters\n",
    "- Boundary conditions, Macroparticle shape, Galilean Frame, ..."
   ]
  },
  {
   "cell_type": "code",
   "execution_count": null,
   "id": "c6e81b9c-dd1f-4b4c-bf7a-56435791d0bd",
   "metadata": {},
   "outputs": [],
   "source": [
    "# Simulation parameters\n",
    "sim_params = {\n",
    "    'Nz': Nz, 'zmin': zmin, 'zmax': zmax,            # Box parameters\n",
    "    'Nr': Nr, 'rmax': rmax,                          # Box parameters\n",
    "    'Nm': Nm, 'dt': dt,                              # Box parameters\n",
    "    'boundaries': {'z':'open', 'r':'open'},          # Boundary conditions\n",
    "    'particle_shape': 'cubic',                       # Marcoparticle shape factor\n",
    "    'gamma_boost': boost.gamma0,                     # Lorentz factor of the Boosted frame\n",
    "    'v_comoving': -c*np.sqrt(1.-1./boost.gamma0**2), # Velocity of the Galilean frame (NCI suppression)\n",
    "    'use_cuda': True,                                # Simulate on CUDA-enabled GPU\n",
    "}"
   ]
  },
  {
   "cell_type": "markdown",
   "id": "95224024-6d52-456f-9128-6c59faad35c9",
   "metadata": {
    "tags": []
   },
   "source": [
    "#### Initialization\n",
    "*Start from here when you want to re-run the simulation*"
   ]
  },
  {
   "cell_type": "code",
   "execution_count": null,
   "id": "c737558f-df0d-4ead-ba6c-ebf072fa8eaf",
   "metadata": {},
   "outputs": [],
   "source": [
    "# Initialize the simulation\n",
    "sim = Simulation(**sim_params)"
   ]
  },
  {
   "cell_type": "markdown",
   "id": "2b5bf414-b52c-4562-aad0-485f8b508374",
   "metadata": {
    "tags": []
   },
   "source": [
    "### Moving window & interaction time"
   ]
  },
  {
   "cell_type": "markdown",
   "id": "2dc7cd19-2d76-4323-b404-6fa8263b712b",
   "metadata": {},
   "source": [
    "- Explain moving window concept"
   ]
  },
  {
   "cell_type": "code",
   "execution_count": null,
   "id": "6ac8cff5-aaa3-4778-ace5-3012ba01f48d",
   "metadata": {},
   "outputs": [],
   "source": [
    "# Moving window speed\n",
    "v_window = c\n",
    "# The interaction length of the simulation, in the lab frame (meters)\n",
    "L_interact = 700.e-6\n",
    "# Interaction time, in the lab frame (seconds)\n",
    "T_interact = (L_interact + (zmax-zmin)) / v_window "
   ]
  },
  {
   "cell_type": "code",
   "execution_count": null,
   "id": "de4ba309-20fa-41f8-b795-a1cc27073968",
   "metadata": {},
   "outputs": [],
   "source": [
    "# Add the moving window to the simulation\n",
    "sim.set_moving_window( v = boost.velocity([v_window])[0] )"
   ]
  },
  {
   "cell_type": "markdown",
   "id": "083b7cf1-a160-4401-8a07-09549a8d6e4a",
   "metadata": {
    "tags": []
   },
   "source": [
    "### Laser"
   ]
  },
  {
   "cell_type": "markdown",
   "id": "e13599c3-c407-402d-a815-adedacaeb5b6",
   "metadata": {},
   "source": [
    "- Explain Gaussian laser parameters\n",
    "- Explain concept of creating and adding a laser profile\n",
    "- Explain working principle of laser antenna"
   ]
  },
  {
   "cell_type": "code",
   "execution_count": null,
   "id": "2c728d53-90d8-4a0a-bb62-f81dc29f4e34",
   "metadata": {},
   "outputs": [],
   "source": [
    "# Laser parameters\n",
    "laser_params = {\n",
    "    'a0': 2.,           # Laser amplitude \n",
    "    'waist': 10.e-6,    # Laser waist (meters)\n",
    "    'tau': 12.e-15,     # Laser duration (seconds)\n",
    "    'z0': -8.e-6,      # Laser centroid (meters)\n",
    "    'zf': 290.e-6,        # Focal position (meters)\n",
    "    'lambda0': 800.e-9  # Laser wavelength (meters)\n",
    "}\n",
    "\n",
    "# Create the laser profile\n",
    "laser_profile = GaussianLaser(**laser_params)"
   ]
  },
  {
   "cell_type": "code",
   "execution_count": null,
   "id": "a227261b-eff7-492c-8af1-253da42beba4",
   "metadata": {},
   "outputs": [],
   "source": [
    "# Add the laser to the simulation\n",
    "add_laser_pulse( sim, laser_profile, gamma_boost=boost.gamma0, method='antenna', z0_antenna=0)"
   ]
  },
  {
   "cell_type": "markdown",
   "id": "3a6cd79a-e6fe-43d5-84ad-70689f85ed44",
   "metadata": {
    "tags": []
   },
   "source": [
    "### Gas & plasma density profile (only in step 2)"
   ]
  },
  {
   "cell_type": "markdown",
   "id": "9f1bf77c-042a-4c3d-aa24-237acfb846a2",
   "metadata": {},
   "source": [
    "- Explain the density function\n",
    "- Explain how to define a density profile based on conditional expressions"
   ]
  },
  {
   "cell_type": "code",
   "execution_count": null,
   "id": "bbcbb5e8-02bb-496c-9765-20f4f869fb78",
   "metadata": {},
   "outputs": [],
   "source": [
    "# Gas density\n",
    "n0 = 4.e24 # Gas atoms per unit volume [1/m^3]\n",
    "\n",
    "# Gas profile\n",
    "ramp_up = 100.e-6    # Length of density up-ramp (rising half-cosine)\n",
    "plateau = 500.e-6   # Length of density plateau\n",
    "ramp_down = 100.e-6  # Length of density down-ramp (falling half-cosine)\n",
    "\n",
    "# Gas density (Hydrogen gas is assumed)\n",
    "def hydrogen_density(z, r):\n",
    "    # Conditional expression describing the profile\n",
    "    profile = \"(z>0) * n0*0.5*(1-cos(pi*(z)/ramp_up)) * (z<ramp_up) + \" + \\\n",
    "              \"(z>=ramp_up) * n0 * (z<=ramp_up+plateau) + \" + \\\n",
    "              \"(z>ramp_up+plateau) * n0*0.5*(1+cos(pi*(z-(ramp_up+plateau))/ramp_down)) * (z<ramp_up+plateau+ramp_down)\"\n",
    "    # Evaluate expression\n",
    "    n = ne.evaluate(profile)\n",
    "    return n\n",
    "\n",
    "# Plasma electron density (assuming full gas ionization)\n",
    "def electron_density(z, r):\n",
    "    # Simply inferred from the Hydrogen gas profile\n",
    "    n = hydrogen_density(z, r) # One electron per Hydrogen ion\n",
    "    return n"
   ]
  },
  {
   "cell_type": "markdown",
   "id": "09794e10-70d0-4bd5-9ed3-c3dff3f41432",
   "metadata": {
    "tags": []
   },
   "source": [
    "#### Dopant gas for ionization injection (only in step 3)"
   ]
  },
  {
   "cell_type": "markdown",
   "id": "6c9a73a9-4613-4175-8aa4-ebd57dfd1e29",
   "metadata": {},
   "source": [
    "- Explain Ionization injection\n",
    "- Localized dopant gas profile\n",
    "- Explain that dopant gas is pre-ionized for performance reasons"
   ]
  },
  {
   "cell_type": "code",
   "execution_count": null,
   "id": "6afd19f7-e4b6-41b1-b8c8-b73b4b703383",
   "metadata": {},
   "outputs": [],
   "source": [
    "# Dopant gas density fraction\n",
    "f = 0.05\n",
    "\n",
    "# Dopant gas density profile (Nitrogen gas is assumed)\n",
    "def nitrogen_density(z, r):\n",
    "    # Conditional expression describing the profile\n",
    "    profile = \"(z>0) * f*n0*0.5*(1-cos(pi*(z)/ramp_up)) * (z<ramp_up) + \" + \\\n",
    "              \"(z>ramp_up) * f*n0*0.5*(1+cos(pi*(z-(ramp_up))/ramp_down)) * (z<ramp_up+ramp_down)\"\n",
    "    # Evaluate expression\n",
    "    n = ne.evaluate(profile)\n",
    "    return n\n",
    "\n",
    "# Plasma electron density (assuming full gas ionization)\n",
    "def electron_density(z, r):\n",
    "    # Simply inferred from the Hydrogen & preionized (up to 5th level) Nitrogen gas profile\n",
    "    n = hydrogen_density(z, r) + 5 * nitrogen_density(z, r) # 1 e- per H-ion & 5 e- per N-ion\n",
    "    return n"
   ]
  },
  {
   "cell_type": "markdown",
   "id": "24b3369e-6b69-452c-9207-58b7ad9d9b4e",
   "metadata": {
    "tags": []
   },
   "source": [
    "### Particles (only in step 2)"
   ]
  },
  {
   "cell_type": "markdown",
   "id": "d770d1e6-e61b-459b-80d3-f2963689352c",
   "metadata": {},
   "source": [
    "- Explain Macroparticle parameters\n",
    "- Particles per cell in each dimension\n",
    "- Explain different species"
   ]
  },
  {
   "cell_type": "code",
   "execution_count": null,
   "id": "ff719c39-db61-456a-b38f-658b18a8e64c",
   "metadata": {},
   "outputs": [],
   "source": [
    "# Macroparticle parameters\n",
    "part_params = {\n",
    "    'p_zmin': 0.e-6,   # Start of particles (meters)\n",
    "    'p_zmax': 700.e-6, # End of particles (meters)\n",
    "    'p_rmax': 30.e-6,  # Radial limit of particles (meters)\n",
    "    'p_nz': 1,         # Number of particles per cell along z\n",
    "    'p_nr': 2,         # Number of particles per cell along r\n",
    "    'p_nt': 6          # Number of particles per cell along theta\n",
    "} "
   ]
  },
  {
   "cell_type": "code",
   "execution_count": null,
   "id": "f15a2f45-5a9a-410e-a398-e2eb41ceed00",
   "metadata": {},
   "outputs": [],
   "source": [
    "# Add the plasma electrons\n",
    "electrons = sim.add_new_species( q=-e, m=m_e, n=1, dens_func=electron_density,\n",
    "                                 **part_params, boost_positions_in_dens_func=True )\n",
    "# Add the hydrogen ions\n",
    "hydrogen_ions = sim.add_new_species( q=e, m=m_p, n=1, dens_func=hydrogen_density,\n",
    "                                     **part_params, boost_positions_in_dens_func=True )"
   ]
  },
  {
   "cell_type": "markdown",
   "id": "3b885794-74a5-4256-a253-4d7b70bd3d6e",
   "metadata": {
    "tags": []
   },
   "source": [
    "#### Ionization (only in step 3)"
   ]
  },
  {
   "cell_type": "markdown",
   "id": "c00ec076-0d40-42b4-a9b3-a47299b679c5",
   "metadata": {},
   "source": [
    "- Explain ionization feature and ADK model\n",
    "- Explain that its useful to add an additional species just for the ionized electrons"
   ]
  },
  {
   "cell_type": "code",
   "execution_count": null,
   "id": "215851ef-12af-476d-8550-98b61d6b2e35",
   "metadata": {},
   "outputs": [],
   "source": [
    "# Add the nitrogen ions (assuming pre-ionization up to the 5th level)\n",
    "nitrogen_ions = sim.add_new_species( q=5*e, m=14.*m_p, n=1, dens_func=nitrogen_density,\n",
    "                                     **part_params, boost_positions_in_dens_func=True )\n",
    "# Add a second electron species for storing the ionized electrons separately\n",
    "ionized_electrons = sim.add_new_species( q=-e, m=m_e )"
   ]
  },
  {
   "cell_type": "code",
   "execution_count": null,
   "id": "82ffc954-baaf-42cb-bb66-3b82ddda869f",
   "metadata": {},
   "outputs": [],
   "source": [
    "# Make Nitrogen atoms ionizable (assuming pre-ionization up to the 5th level)\n",
    "nitrogen_ions.make_ionizable( 'N', target_species=ionized_electrons, level_start=5 )"
   ]
  },
  {
   "cell_type": "markdown",
   "id": "a4e664c0-39bb-4a53-bf9e-ebd83c118468",
   "metadata": {
    "tags": []
   },
   "source": [
    "### Diagnostics"
   ]
  },
  {
   "cell_type": "markdown",
   "id": "ebf8808f-215c-4d24-8b9a-ab71c2f1891b",
   "metadata": {},
   "source": [
    "- Explain general functionality of diagnostics\n",
    "- Explain the caveats of back-transforming the results from the boosted frame to the lab frame"
   ]
  },
  {
   "cell_type": "code",
   "execution_count": null,
   "id": "df08a52b-3ea5-4194-9c13-8b1bd05e7bd2",
   "metadata": {},
   "outputs": [],
   "source": [
    "# Remove diagnostic directory\n",
    "!rm -r ./lab_diags"
   ]
  },
  {
   "cell_type": "code",
   "execution_count": null,
   "id": "e1ce4178-6b04-40f9-8c9e-04c94dbb2b99",
   "metadata": {},
   "outputs": [],
   "source": [
    "# Number of discrete diagnostic snapshots, back-transformed from the boosted simulation frame to the lab frame\n",
    "N_diag = 10+1\n",
    "# Time interval between diagnostic snapshots *in the lab frame* \n",
    "# (first at t=0, the last at t=T_interact)\n",
    "dt_diag_period = T_interact / (N_diag - 1) "
   ]
  },
  {
   "cell_type": "markdown",
   "id": "8cc7f815-8b00-4570-989a-04b2a7cc0648",
   "metadata": {
    "tags": []
   },
   "source": [
    "#### Field diagnostics"
   ]
  },
  {
   "cell_type": "code",
   "execution_count": null,
   "id": "95864064-0756-44d1-88a6-4c466f5da183",
   "metadata": {},
   "outputs": [],
   "source": [
    "# Field diagnostics (back-transformed to lab frame)\n",
    "field_diag = BackTransformedFieldDiagnostic( zmin, zmax, v_window, dt_diag_period, N_diag, boost.gamma0,\n",
    "                                             period=50, fldobject=sim.fld, comm=sim.comm, \n",
    "                                             fieldtypes=['rho','E','B'] )\n",
    "# Add the diagnostic to the simulation\n",
    "sim.diags.append( field_diag )"
   ]
  },
  {
   "cell_type": "markdown",
   "id": "a69a10c9-0fc7-455a-bae1-90d4f87a0204",
   "metadata": {
    "tags": []
   },
   "source": [
    "#### Particle diagnostics (only in step 3)"
   ]
  },
  {
   "cell_type": "code",
   "execution_count": null,
   "id": "a60881b6-228e-41fa-ae46-b3b7fe688164",
   "metadata": {
    "tags": []
   },
   "outputs": [],
   "source": [
    "# Particle diagnostics (back-transformed to lab frame)\n",
    "particle_diag = BackTransformedParticleDiagnostic( zmin, zmax, v_window, dt_diag_period, N_diag, boost.gamma0,\n",
    "                                                   period=50, fldobject=sim.fld, comm=sim.comm, \n",
    "                                                   species={'bunch': ionized_electrons} )\n",
    "# Add the diagnostic to the simulation\n",
    "sim.diags.append( particle_diag )"
   ]
  },
  {
   "cell_type": "markdown",
   "id": "f5e7a5d9-d6e3-4258-b988-82ee1b85f0db",
   "metadata": {},
   "source": [
    "### PIC Loop"
   ]
  },
  {
   "cell_type": "code",
   "execution_count": null,
   "id": "aba95fa4-17ad-4816-b3a6-cd4d23b1b77f",
   "metadata": {},
   "outputs": [],
   "source": [
    "# Number of PIC loop iterations (Interaction time in the Boosted frame divided by the timestep)\n",
    "N_step = int( boost.interaction_time( L_interact, (zmax-zmin), v_window ) / sim.dt )\n",
    "\n",
    "# Run Particle-In-Cell loop\n",
    "sim.step(N_step)"
   ]
  },
  {
   "cell_type": "code",
   "execution_count": null,
   "id": "cbf048e8-9db4-45b3-b1af-14509f554325",
   "metadata": {},
   "outputs": [],
   "source": []
  }
 ],
 "metadata": {
  "kernelspec": {
   "display_name": "Python (main)",
   "language": "python",
   "name": "main"
  },
  "language_info": {
   "codemirror_mode": {
    "name": "ipython",
    "version": 3
   },
   "file_extension": ".py",
   "mimetype": "text/x-python",
   "name": "python",
   "nbconvert_exporter": "python",
   "pygments_lexer": "ipython3",
   "version": "3.9.7"
  }
 },
 "nbformat": 4,
 "nbformat_minor": 5
}
